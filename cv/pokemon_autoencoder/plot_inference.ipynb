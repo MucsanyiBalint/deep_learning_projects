{
 "cells": [
  {
   "cell_type": "code",
   "execution_count": 1,
   "metadata": {},
   "outputs": [],
   "source": [
    "from torch.nn import MSELoss\n",
    "from setup_datasets import get_datasets\n",
    "from model import ResizedPokemonAutoencoder\n",
    "from utils import show_image\n",
    "import torch"
   ]
  },
  {
   "cell_type": "code",
   "execution_count": 2,
   "metadata": {},
   "outputs": [],
   "source": [
    "model = ResizedPokemonAutoencoder(3)\n",
    "model.load_state_dict(torch.load('models/model.pt'))\n",
    "model.eval()\n",
    "\n",
    "_, _, test_dl = get_datasets()"
   ]
  },
  {
   "cell_type": "markdown",
   "metadata": {},
   "source": [
    "### Performance of our model"
   ]
  },
  {
   "cell_type": "code",
   "execution_count": 6,
   "metadata": {},
   "outputs": [
    {
     "name": "stdout",
     "output_type": "stream",
     "text": [
      "0.030328011140227318\n",
      "0.025353439152240753\n"
     ]
    }
   ],
   "source": [
    "x_batch, y_batch = next(iter(test_dl))\n",
    "patchy_image = x_batch[1]\n",
    "\n",
    "show_image(patchy_image)\n",
    "\n",
    "with torch.no_grad():\n",
    "    pred = model(patchy_image.unsqueeze(0))\n",
    "\n",
    "show_image(pred.squeeze())\n",
    "clean_image = y_batch[1]\n",
    "\n",
    "\n",
    "loss_func = MSELoss()\n",
    "print(loss_func(patchy_image, clean_image).item())\n",
    "print(loss_func(pred.squeeze(), clean_image).item())\n",
    "\n",
    "show_image(clean_image)"
   ]
  },
  {
   "cell_type": "code",
   "execution_count": null,
   "metadata": {},
   "outputs": [],
   "source": []
  }
 ],
 "metadata": {
  "kernelspec": {
   "display_name": "Python 3",
   "language": "python",
   "name": "python3"
  },
  "language_info": {
   "codemirror_mode": {
    "name": "ipython",
    "version": 3
   },
   "file_extension": ".py",
   "mimetype": "text/x-python",
   "name": "python",
   "nbconvert_exporter": "python",
   "pygments_lexer": "ipython3",
   "version": "3.8.3"
  }
 },
 "nbformat": 4,
 "nbformat_minor": 4
}
